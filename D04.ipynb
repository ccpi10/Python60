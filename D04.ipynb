{
 "cells": [
  {
   "cell_type": "code",
   "execution_count": null,
   "id": "eight-combining",
   "metadata": {},
   "outputs": [],
   "source": []
  },
  {
   "cell_type": "markdown",
   "id": "analyzed-charleston",
   "metadata": {
    "id": "-MPLt0EF2Zto"
   },
   "source": [
    "題目:<br>\r\n",
    "english_score = np.array([55,89,76,65,48,70])<br>\r\n",
    "math_score = np.array([60,85,60,68,55,60])<br>\r\n",
    "chinese_score = np.array([65,90,82,72,66,77])<br>\r\n",
    "上3列共六位同學的英文、數學、國文成績，第一個元素代表第一位同學，舉例第一位同學英文55分、數學60分、國文65分，運用上列數據回答下列問題。<br>\r\n",
    "1. 有多少學生英文成績比數學成績高?\r\n",
    "2. 是否全班同學最高分都是國文?\r\n",
    "\r\n",
    "\r\n"
   ]
  },
  {
   "cell_type": "code",
   "execution_count": 5,
   "id": "accessible-antarctica",
   "metadata": {},
   "outputs": [
    {
     "name": "stdout",
     "output_type": "stream",
     "text": [
      "[False  True  True False False  True]\n",
      "3\n"
     ]
    }
   ],
   "source": [
    "import numpy as np\n",
    "en_score = np.array([55,89,76,65,48,70])\n",
    "math_score = np.array([60,85,60,68,55,60])\n",
    "chi_score = np.array([65,90,82,72,66,77])\n",
    "print(np.greater(en_score,math_score))\n",
    "print(np.sum(np.greater(en_score,math_score)))"
   ]
  },
  {
   "cell_type": "code",
   "execution_count": 9,
   "id": "professional-deployment",
   "metadata": {},
   "outputs": [
    {
     "name": "stdout",
     "output_type": "stream",
     "text": [
      "[ True  True  True  True  True  True]\n",
      "[ True  True  True  True  True  True]\n"
     ]
    }
   ],
   "source": [
    "print(np.greater(chi_score,en_score))\n",
    "print(np.greater(chi_score,math_score))"
   ]
  },
  {
   "cell_type": "code",
   "execution_count": 12,
   "id": "based-poultry",
   "metadata": {},
   "outputs": [
    {
     "name": "stdout",
     "output_type": "stream",
     "text": [
      "[ True  True  True  True  True  True]\n",
      "True\n"
     ]
    }
   ],
   "source": [
    "a=np.greater(chi_score,en_score)\n",
    "b=np.greater(chi_score,math_score)\n",
    "print(np.logical_and(a,b))\n",
    "print(np.logical_and(a,b).any())"
   ]
  }
 ],
 "metadata": {
  "kernelspec": {
   "display_name": "Python 3",
   "language": "python",
   "name": "python3"
  },
  "language_info": {
   "codemirror_mode": {
    "name": "ipython",
    "version": 3
   },
   "file_extension": ".py",
   "mimetype": "text/x-python",
   "name": "python",
   "nbconvert_exporter": "python",
   "pygments_lexer": "ipython3",
   "version": "3.8.0"
  }
 },
 "nbformat": 4,
 "nbformat_minor": 5
}
