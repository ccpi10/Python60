{
 "cells": [
  {
   "cell_type": "code",
   "execution_count": 31,
   "id": "demanding-diploma",
   "metadata": {},
   "outputs": [],
   "source": [
    "import numpy as np"
   ]
  },
  {
   "cell_type": "code",
   "execution_count": 36,
   "id": "reflected-idaho",
   "metadata": {},
   "outputs": [],
   "source": [
    "#. 將下兩列array存成npz檔\n",
    "array1 = np.array(range(30))\n",
    "array2 = np.array([2,3,5])\n",
    "with open('savearray.npz','wb') as f:\n",
    "    np.savez(f,array1,array2)"
   ]
  },
  {
   "cell_type": "code",
   "execution_count": 33,
   "id": "eligible-sampling",
   "metadata": {},
   "outputs": [
    {
     "data": {
      "text/plain": [
       "['arr_0', 'arr_1']"
      ]
     },
     "execution_count": 33,
     "metadata": {},
     "output_type": "execute_result"
    }
   ],
   "source": [
    "a=np.load('savearray.npz')\n",
    "a.files"
   ]
  },
  {
   "cell_type": "code",
   "execution_count": 40,
   "id": "micro-superior",
   "metadata": {},
   "outputs": [],
   "source": [
    "#2. 讀取剛剛的npz檔，加入下列array一起存成新的npz檔\n",
    "a=np.load('savearray.npz')\n",
    "array3 = np.array([[4,5,6],[1,2,3]])\n",
    "np.savez('savearray.npz',a['arr_0'],a['arr_1'], array3)"
   ]
  },
  {
   "cell_type": "code",
   "execution_count": 41,
   "id": "significant-notification",
   "metadata": {},
   "outputs": [
    {
     "data": {
      "text/plain": [
       "['arr_0', 'arr_1', 'arr_2']"
      ]
     },
     "execution_count": 41,
     "metadata": {},
     "output_type": "execute_result"
    }
   ],
   "source": [
    "fill=np.load('savearray.npz')\n",
    "fill.files"
   ]
  },
  {
   "cell_type": "code",
   "execution_count": 43,
   "id": "sacred-grenada",
   "metadata": {},
   "outputs": [
    {
     "name": "stdout",
     "output_type": "stream",
     "text": [
      "[ 0  1  2  3  4  5  6  7  8  9 10 11 12 13 14 15 16 17 18 19 20 21 22 23\n",
      " 24 25 26 27 28 29]\n"
     ]
    }
   ],
   "source": [
    "print(fill['arr_0'])"
   ]
  }
 ],
 "metadata": {
  "kernelspec": {
   "display_name": "Python 3",
   "language": "python",
   "name": "python3"
  },
  "language_info": {
   "codemirror_mode": {
    "name": "ipython",
    "version": 3
   },
   "file_extension": ".py",
   "mimetype": "text/x-python",
   "name": "python",
   "nbconvert_exporter": "python",
   "pygments_lexer": "ipython3",
   "version": "3.8.0"
  }
 },
 "nbformat": 4,
 "nbformat_minor": 5
}
